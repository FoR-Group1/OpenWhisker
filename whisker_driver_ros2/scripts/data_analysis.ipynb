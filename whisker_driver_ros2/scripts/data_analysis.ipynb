{
 "cells": [
  {
   "cell_type": "code",
   "execution_count": 4,
   "metadata": {},
   "outputs": [
    {
     "name": "stdout",
     "output_type": "stream",
     "text": [
      "zsh:1: /usr/local/bin/pip: bad interpreter: /usr/local/opt/python/bin/python3.6: no such file or directory\n"
     ]
    }
   ],
   "source": [
    "!pip install mcap-ros2-support mcap"
   ]
  },
  {
   "cell_type": "code",
   "execution_count": 2,
   "metadata": {},
   "outputs": [],
   "source": [
    "import math"
   ]
  },
  {
   "cell_type": "code",
   "execution_count": 3,
   "metadata": {},
   "outputs": [
    {
     "ename": "ModuleNotFoundError",
     "evalue": "No module named 'mcap_ros2'",
     "output_type": "error",
     "traceback": [
      "\u001b[0;31m---------------------------------------------------------------------------\u001b[0m",
      "\u001b[0;31mModuleNotFoundError\u001b[0m                       Traceback (most recent call last)",
      "\u001b[0;32m<ipython-input-3-aaec4804f4a5>\u001b[0m in \u001b[0;36m<module>\u001b[0;34m\u001b[0m\n\u001b[0;32m----> 1\u001b[0;31m \u001b[0;32mfrom\u001b[0m \u001b[0mmcap_ros2\u001b[0m\u001b[0;34m.\u001b[0m\u001b[0mdecoder\u001b[0m \u001b[0;32mimport\u001b[0m \u001b[0mDecoderFactory\u001b[0m\u001b[0;34m\u001b[0m\u001b[0m\n\u001b[0m\u001b[1;32m      2\u001b[0m \u001b[0;32mfrom\u001b[0m \u001b[0mmcap\u001b[0m\u001b[0;34m.\u001b[0m\u001b[0mreader\u001b[0m \u001b[0;32mimport\u001b[0m \u001b[0mmake_reader\u001b[0m\u001b[0;34m\u001b[0m\u001b[0m\n\u001b[1;32m      3\u001b[0m \u001b[0;34m\u001b[0m\u001b[0m\n\u001b[1;32m      4\u001b[0m \u001b[0mmagnetometer_data\u001b[0m \u001b[0;34m=\u001b[0m \u001b[0;34m[\u001b[0m\u001b[0;34m]\u001b[0m\u001b[0;34m\u001b[0m\u001b[0m\n\u001b[1;32m      5\u001b[0m \u001b[0mprinter_data\u001b[0m \u001b[0;34m=\u001b[0m \u001b[0;34m[\u001b[0m\u001b[0;34m]\u001b[0m\u001b[0;34m\u001b[0m\u001b[0m\n",
      "\u001b[0;31mModuleNotFoundError\u001b[0m: No module named 'mcap_ros2'"
     ]
    }
   ],
   "source": [
    "from mcap_ros2.decoder import DecoderFactory\n",
    "from mcap.reader import make_reader\n",
    "\n",
    "magnetometer_data = []\n",
    "printer_data = []\n",
    "with open(\n",
    "    \"../data/rosbag2_2024_01_11-11_38_41/rosbag2_2024_01_11-11_38_41_0.mcap\",\n",
    "    \"rb\",\n",
    ") as fd:\n",
    "    reader = make_reader(fd, decoder_factories=[DecoderFactory()])\n",
    "    for schema, channel, message, ros_msg in reader.iter_decoded_messages(\n",
    "    ):\n",
    "        # print(f\"{channel.topic} {schema.name} [{message.log_time}]: \")\n",
    "        if channel.topic == \"/magnetometer_reading\":\n",
    "            for reading in ros_msg.magnetic_field_array:\n",
    "                timestamp = reading.header.stamp.sec + reading.header.stamp.nanosec * 1e-9\n",
    "                magnetic_field_x = reading.magnetic_field.x\n",
    "                magnetic_field_y = reading.magnetic_field.y\n",
    "                magnetic_field_z = reading.magnetic_field.z\n",
    "                magnetometer_data.append([timestamp, magnetic_field_x, magnetic_field_y, magnetic_field_z])\n",
    "\n",
    "        elif channel.topic == \"/tf\":\n",
    "            for transform in ros_msg.transforms:\n",
    "                if transform.header.frame_id == \"printer_head_link\":\n",
    "                    timestamp = transform.header.stamp.sec + transform.header.stamp.nanosec * 1e-9\n",
    "                    x = transform.transform.translation.x\n",
    "                    y = transform.transform.translation.y\n",
    "                    z = transform.transform.translation.z\n",
    "                    printer_data.append([timestamp, x, y, z])"
   ]
  },
  {
   "cell_type": "code",
   "execution_count": null,
   "metadata": {},
   "outputs": [
    {
     "ename": "",
     "evalue": "",
     "output_type": "error",
     "traceback": [
      "\u001b[1;31mRunning cells with '/usr/local/bin/python3.12' requires the ipykernel package.\n",
      "\u001b[1;31mRun the following command to install 'ipykernel' into the Python environment. \n",
      "\u001b[1;31mCommand: '/usr/local/bin/python3.12 -m pip install ipykernel -U --user --force-reinstall'"
     ]
    }
   ],
   "source": [
    "from matplotlib import pyplot as plt\n",
    "\n",
    "plt.plot([x[0] for x in magnetometer_data], [x[1] for x in magnetometer_data], label=\"x\")\n",
    "plt.plot([x[0] for x in magnetometer_data], [x[2] for x in magnetometer_data], label=\"y\")\n",
    "plt.plot([x[0] for x in magnetometer_data], [x[3] for x in magnetometer_data], label=\"z\")\n",
    "plt.set_xlabel(\"timestamp [s]\")\n",
    "plt.set_ylabel(\"Magnetic Sensor Reading\")\n",
    "plt.legend()\n",
    "plt.grid()\n",
    "plt.show()\n",
    "plt.savefig(\"../reports/ros_integration/figures/raw_magnetometer.png\")"
   ]
  },
  {
   "cell_type": "code",
   "execution_count": null,
   "metadata": {},
   "outputs": [
    {
     "ename": "",
     "evalue": "",
     "output_type": "error",
     "traceback": [
      "\u001b[1;31mRunning cells with '/usr/local/bin/python3.12' requires the ipykernel package.\n",
      "\u001b[1;31mRun the following command to install 'ipykernel' into the Python environment. \n",
      "\u001b[1;31mCommand: '/usr/local/bin/python3.12 -m pip install ipykernel -U --user --force-reinstall'"
     ]
    }
   ],
   "source": [
    "plt.plot([x[0] for x in printer_data], [x[1] for x in printer_data], label=\"x\")\n",
    "plt.plot([x[0] for x in printer_data], [x[2] for x in printer_data], label=\"y\")\n",
    "plt.plot([x[0] for x in printer_data], [x[3] for x in printer_data], label=\"z\")\n",
    "plt.set_xlabel(\"timestamp [s]\")\n",
    "plt.set_ylabel(\"mm\")\n",
    "plt.legend()\n",
    "plt.grid()\n",
    "plt.show()\n",
    "plt.savefig(\"../reports/ros_integration/figures/3d_printer_raw.png\")\n"
   ]
  },
  {
   "cell_type": "code",
   "execution_count": null,
   "metadata": {},
   "outputs": [
    {
     "ename": "",
     "evalue": "",
     "output_type": "error",
     "traceback": [
      "\u001b[1;31mRunning cells with '/usr/local/bin/python3.12' requires the ipykernel package.\n",
      "\u001b[1;31mRun the following command to install 'ipykernel' into the Python environment. \n",
      "\u001b[1;31mCommand: '/usr/local/bin/python3.12 -m pip install ipykernel -U --user --force-reinstall'"
     ]
    }
   ],
   "source": [
    "import numpy as np\n",
    "from scipy.signal import butter,filtfilt\n",
    "\n",
    "# Filter requirements.\n",
    "T = 5.0         # Sample Period\n",
    "fs = 850       # sample rate, Hz\n",
    "cutoff = 2     # desired cutoff frequency of the filter, Hz ,      slightly higher than actual 1.2 Hz\n",
    "nyq = 0.5 * fs  # Nyquist Frequency\n",
    "order = 2       # sin wave can be approx represented as quadratic\n",
    "# n = len(y_data) # total number of samples\n",
    "\n",
    "def butter_lowpass_filter(data, cutoff, fs, order):\n",
    "    nyq = 0.5 * fs\n",
    "    normal_cutoff = cutoff / nyq\n",
    "    # Get the filter coefficients \n",
    "    b, a = butter(order, normal_cutoff, btype='low', analog=False)\n",
    "    # print(b.dtype, a.dtype)\n",
    "    y = filtfilt(b, a, data)\n",
    "    return y"
   ]
  },
  {
   "cell_type": "code",
   "execution_count": null,
   "metadata": {},
   "outputs": [
    {
     "ename": "",
     "evalue": "",
     "output_type": "error",
     "traceback": [
      "\u001b[1;31mRunning cells with '/usr/local/bin/python3.12' requires the ipykernel package.\n",
      "\u001b[1;31mRun the following command to install 'ipykernel' into the Python environment. \n",
      "\u001b[1;31mCommand: '/usr/local/bin/python3.12 -m pip install ipykernel -U --user --force-reinstall'"
     ]
    }
   ],
   "source": [
    "t_data = [x[0] for x in magnetometer_data]\n",
    "x_data = [x[1] for x in magnetometer_data]\n",
    "x_filtered = butter_lowpass_filter(x_data, cutoff, fs, order)\n",
    "\n",
    "plt.plot(t_data, x_data, label=\"x_raw\")\n",
    "plt.plot(t_data, x_filtered, label=\"x_filtered\")\n",
    "plt.set_xlabel(\"timestamp [s]\")\n",
    "plt.set_ylabel(\"Magnetic Sensor Reading\")\n",
    "plt.show()\n",
    "plt.savefig(\"../reports/ros_integration/figures/filtered_magnetometer.png\")"
   ]
  },
  {
   "cell_type": "code",
   "execution_count": null,
   "metadata": {},
   "outputs": [
    {
     "ename": "",
     "evalue": "",
     "output_type": "error",
     "traceback": [
      "\u001b[1;31mRunning cells with '/usr/local/bin/python3.12' requires the ipykernel package.\n",
      "\u001b[1;31mRun the following command to install 'ipykernel' into the Python environment. \n",
      "\u001b[1;31mCommand: '/usr/local/bin/python3.12 -m pip install ipykernel -U --user --force-reinstall'"
     ]
    }
   ],
   "source": [
    "# get gradient of sensor data\n",
    "import numpy as np\n",
    "\n",
    "y_data = [float(x[2]) for x in magnetometer_data]\n",
    "for i in range(len(y_data)):\n",
    "    if y_data[i] > 55000:\n",
    "        y_data[i] = y_data[i] - 2**16\n",
    "y_filtered = butter_lowpass_filter(y_data, cutoff, fs, order)\n",
    "y_grad = np.gradient(y_filtered)\n",
    "\n",
    "plt.plot([x[0] for x in magnetometer_data], y_grad, label=\"y_grad\")\n",
    "plt.legend()\n",
    "plt.grid()\n",
    "plt.show()"
   ]
  },
  {
   "cell_type": "code",
   "execution_count": null,
   "metadata": {},
   "outputs": [
    {
     "ename": "",
     "evalue": "",
     "output_type": "error",
     "traceback": [
      "\u001b[1;31mRunning cells with '/usr/local/bin/python3.12' requires the ipykernel package.\n",
      "\u001b[1;31mRun the following command to install 'ipykernel' into the Python environment. \n",
      "\u001b[1;31mCommand: '/usr/local/bin/python3.12 -m pip install ipykernel -U --user --force-reinstall'"
     ]
    }
   ],
   "source": [
    "episodes = []\n",
    "open_episode = True\n",
    "episode_start = 0\n",
    "\n",
    "t_data = [x[0] for x in magnetometer_data]\n",
    "\n",
    "print(len(y_grad), len(t_data))\n",
    "for idx, pt in enumerate(y_grad):\n",
    "    if open_episode:\n",
    "        if pt < -10:\n",
    "            # found start of episode\n",
    "            open_episode = False\n",
    "            episode_start = t_data[idx]\n",
    "        else:\n",
    "            continue\n",
    "    else:\n",
    "        if pt > 10:\n",
    "            # found end of episode\n",
    "            open_episode = True\n",
    "            episodes.append((episode_start, t_data[idx]))\n",
    "        else:\n",
    "            continue"
   ]
  },
  {
   "cell_type": "code",
   "execution_count": null,
   "metadata": {},
   "outputs": [
    {
     "ename": "",
     "evalue": "",
     "output_type": "error",
     "traceback": [
      "\u001b[1;31mRunning cells with '/usr/local/bin/python3.12' requires the ipykernel package.\n",
      "\u001b[1;31mRun the following command to install 'ipykernel' into the Python environment. \n",
      "\u001b[1;31mCommand: '/usr/local/bin/python3.12 -m pip install ipykernel -U --user --force-reinstall'"
     ]
    }
   ],
   "source": [
    "shaft_timestamp = [x[0] for x in printer_data]\n",
    "\n",
    "BEAM_EDGE_Y_RELATIVE_TO_NOZZLE = 56.75\n",
    "WHISKER_TIP_Y = 35  # from the base of the printer bed\n",
    "\n",
    "\n",
    "def distance_on_shaft(y):\n",
    "    return y - BEAM_EDGE_Y_RELATIVE_TO_NOZZLE - WHISKER_TIP_Y\n",
    "\n",
    "\n",
    "shaft_data = [distance_on_shaft(x[2]) for x in printer_data]\n",
    "\n",
    "\n",
    "shaft_data_zipped = list(zip(shaft_timestamp, shaft_data))\n",
    "shaft_data_per_episode = []\n",
    "\n",
    "episodes_data = []\n",
    "episodes_grad_data = []\n",
    "for episode_start, episode_end in episodes:\n",
    "    episodes_data.append(\n",
    "        [y for t, y in zip(t_data, y_data) if t >= episode_start and t <= episode_end]\n",
    "    )\n",
    "    shaft_data_per_episode.append(\n",
    "        [\n",
    "            x[1]\n",
    "            for x in shaft_data_zipped\n",
    "            if x[0] >= episode_start and x[0] <= episode_end\n",
    "        ]\n",
    "    )\n",
    "    episodes_grad_data.append(\n",
    "        [y for t, y in zip(t_data, y_grad) if t >= episode_start and t <= episode_end]\n",
    "    )\n",
    "\n",
    "shaft_distance_per_episode = [float(np.median(x)) for x in shaft_data_per_episode]\n",
    "\n",
    "print(len(episodes_data))\n",
    "fig, axes = plt.subplots(ncols=5, nrows=math.ceil(len(episodes) / 5))\n",
    "for idx, data in enumerate(episodes_data):\n",
    "    ax = axes[idx // 5, idx % 5]\n",
    "    ax.plot(data)\n",
    "    ax.title.set_text(f\"D: {shaft_distance_per_episode[idx]:.2f}\")\n",
    "\n",
    "\n",
    "fig, axes = plt.subplots(ncols=5, nrows=math.ceil(len(episodes) / 5))\n",
    "for idx, data in enumerate(episodes_grad_data):\n",
    "    ax = axes[idx // 5, idx % 5]\n",
    "    ax.plot(data)\n",
    "    ax.title.set_text(f\"D: {shaft_distance_per_episode[idx]:.2f}\")\n",
    "\n",
    "\n",
    "max_grad_per_episode = [np.min(x) for x in episodes_grad_data]\n",
    "print(shaft_distance_per_episode)\n",
    "print(max_grad_per_episode)"
   ]
  },
  {
   "cell_type": "code",
   "execution_count": null,
   "metadata": {},
   "outputs": [
    {
     "ename": "",
     "evalue": "",
     "output_type": "error",
     "traceback": [
      "\u001b[1;31mRunning cells with '/usr/local/bin/python3.12' requires the ipykernel package.\n",
      "\u001b[1;31mRun the following command to install 'ipykernel' into the Python environment. \n",
      "\u001b[1;31mCommand: '/usr/local/bin/python3.12 -m pip install ipykernel -U --user --force-reinstall'"
     ]
    }
   ],
   "source": [
    "print(len(shaft_distance_per_episode), len(max_grad_per_episode))\n",
    "\n",
    "plt.plot([x for x in max_grad_per_episode], shaft_distance_per_episode, \"x\")\n",
    "plt.grid()"
   ]
  },
  {
   "cell_type": "code",
   "execution_count": null,
   "metadata": {},
   "outputs": [
    {
     "ename": "",
     "evalue": "",
     "output_type": "error",
     "traceback": [
      "\u001b[1;31mRunning cells with '/usr/local/bin/python3.12' requires the ipykernel package.\n",
      "\u001b[1;31mRun the following command to install 'ipykernel' into the Python environment. \n",
      "\u001b[1;31mCommand: '/usr/local/bin/python3.12 -m pip install ipykernel -U --user --force-reinstall'"
     ]
    }
   ],
   "source": [
    "# curve-fit() function imported from scipy\n",
    "from scipy.optimize import curve_fit\n",
    "\n",
    "def whisker_model(x, a, b, c, d):\n",
    "    return a*x*x*x + b*x*x + c*x + d\n",
    " \n",
    "param, param_cov = curve_fit(whisker_model, max_grad_per_episode, shaft_distance_per_episode)\n",
    " \n",
    "plt.plot([x for x in max_grad_per_episode], shaft_distance_per_episode, \"x\")\n",
    "plt.grid()\n",
    "\n",
    "ans = [whisker_model(x, param[0], param[1], param[2], param[3]) for x in sorted(max_grad_per_episode)]\n",
    "\n",
    "plt.plot(sorted(max_grad_per_episode), ans, '--', color ='blue', label =\"Polynomial Fit\")\n",
    "plt.set(xlabel='max_grad_per_episode', ylabel='shaft_distance_per_episode')\n",
    "plt.legend()\n",
    "plt.show()"
   ]
  },
  {
   "cell_type": "code",
   "execution_count": null,
   "metadata": {},
   "outputs": [
    {
     "ename": "",
     "evalue": "",
     "output_type": "error",
     "traceback": [
      "\u001b[1;31mRunning cells with '/usr/local/bin/python3.12' requires the ipykernel package.\n",
      "\u001b[1;31mRun the following command to install 'ipykernel' into the Python environment. \n",
      "\u001b[1;31mCommand: '/usr/local/bin/python3.12 -m pip install ipykernel -U --user --force-reinstall'"
     ]
    }
   ],
   "source": [
    "import pickle\n",
    "\n",
    "with open(\"whisker_model.pkl\", \"wb\") as fd:\n",
    "    pickle.dump(param, fd)"
   ]
  },
  {
   "cell_type": "code",
   "execution_count": null,
   "metadata": {},
   "outputs": [
    {
     "ename": "",
     "evalue": "",
     "output_type": "error",
     "traceback": [
      "\u001b[1;31mRunning cells with '/usr/local/bin/python3.12' requires the ipykernel package.\n",
      "\u001b[1;31mRun the following command to install 'ipykernel' into the Python environment. \n",
      "\u001b[1;31mCommand: '/usr/local/bin/python3.12 -m pip install ipykernel -U --user --force-reinstall'"
     ]
    }
   ],
   "source": [
    "with open(\"whisker_model.pkl\", \"rb\") as fd:\n",
    "    print(pickle.load(fd))"
   ]
  },
  {
   "cell_type": "code",
   "execution_count": null,
   "metadata": {},
   "outputs": [
    {
     "ename": "",
     "evalue": "",
     "output_type": "error",
     "traceback": [
      "\u001b[1;31mRunning cells with '/usr/local/bin/python3.12' requires the ipykernel package.\n",
      "\u001b[1;31mRun the following command to install 'ipykernel' into the Python environment. \n",
      "\u001b[1;31mCommand: '/usr/local/bin/python3.12 -m pip install ipykernel -U --user --force-reinstall'"
     ]
    }
   ],
   "source": [
    "for idx, data in enumerate(episodes_data):\n",
    "    print(len(data))"
   ]
  },
  {
   "cell_type": "code",
   "execution_count": null,
   "metadata": {},
   "outputs": [
    {
     "ename": "",
     "evalue": "",
     "output_type": "error",
     "traceback": [
      "\u001b[1;31mRunning cells with '/usr/local/bin/python3.12' requires the ipykernel package.\n",
      "\u001b[1;31mRun the following command to install 'ipykernel' into the Python environment. \n",
      "\u001b[1;31mCommand: '/usr/local/bin/python3.12 -m pip install ipykernel -U --user --force-reinstall'"
     ]
    }
   ],
   "source": []
  }
 ],
 "metadata": {
  "kernelspec": {
   "display_name": "base",
   "language": "python",
   "name": "python3"
  },
  "language_info": {
   "codemirror_mode": {
    "name": "ipython",
    "version": 3
   },
   "file_extension": ".py",
   "mimetype": "text/x-python",
   "name": "python",
   "nbconvert_exporter": "python",
   "pygments_lexer": "ipython3",
   "version": "3.6.5"
  }
 },
 "nbformat": 4,
 "nbformat_minor": 2
}
